{
  "nbformat": 4,
  "nbformat_minor": 0,
  "metadata": {
    "colab": {
      "provenance": [],
      "include_colab_link": true
    },
    "kernelspec": {
      "name": "python3",
      "display_name": "Python 3"
    },
    "language_info": {
      "name": "python"
    }
  },
  "cells": [
    {
      "cell_type": "markdown",
      "metadata": {
        "id": "view-in-github",
        "colab_type": "text"
      },
      "source": [
        "<a href=\"https://colab.research.google.com/github/Ammrun/exerPyth_PackageManagerPip/blob/main/Copy_of_PythonPip.ipynb\" target=\"_parent\"><img src=\"https://colab.research.google.com/assets/colab-badge.svg\" alt=\"Open In Colab\"/></a>"
      ]
    },
    {
      "cell_type": "markdown",
      "source": [
        "# Python Pip\n",
        "\n",
        "Background before completing this assignment: In the past, if you wanted to run Python, you had to install it on your computer. You recently learned about the Python Standard Library. The Python Standard Library are many modules included with Python for accomplishing common programming tasks. However, there are many modules NOT included with Python that vastly expand the capabilities of Python. To use those modules, you first have to install them. External modules that you install before you can run them are commonly called \"packages\". Installing packages brings a level of complexity that requires some additional tools. The most common tool for installing and managing external packages is called \"Pip\". Pip is called a package manager. There are other package managers. (Probably the next most common package manager is called \"Conda\".)\n",
        "\n",
        "Mixing many Python packages together can sometimes be problematic. Especially when you're trying to work on different types of projects like machine learning, natural language processing, computer vision, and other domains. To manage this complexity, other tools like virtual environments were created to allow users to keep separate Python environments for separate tasks. One environment could be set up for one task. Another environment could be set up for a different task. Needless to say, managing all these environments and switching between them can get very complex.\n",
        "\n",
        "The advent of cloud resources for Python programming has helped reduce some of the headache of managing multiple Python environments. If you want to work on a different type of project, all you have to do is open a different Google Collaboratory sheet and you're starting with a fresh environment. Different Google Collaboratory sheets are not affected by each other. (When you open a Google Collaboratory sheet, you actually start a separate virtual machine. If your sheet is inactive for a certain length of time, Google actually disconnects your sheet from the virtual machine and shuts the machine down to save resources, and you need to start things over from scratch.)\n",
        "\n",
        "Package managers like Pip are usually run on the command line. Since Google is maintaining the environment for you, you don't have access to the command line or terminal on Google Collaboratory. But you still may need to install some specialized or uncommon packages. (Google Collaboratory comes pre-installed with many commonly used packages.) There's a special command you can use in Google Collaboratory cell blocks to tell Google Collaboratory that a command needs to run on the command line instead of the regular Python cell block. The special command is to start the command with an exclamation point \"!\" in front of the code you intend to run on the command line. This way, you can still install packages from the command line, but without needing to leave the Google Collaboratory sheet.\n",
        "\n",
        "With this background, you now have the information you need to complete the following exercise.\n",
        "\n",
        "This assignment marks a bit of a transition in how we'll complete the assignments. Rather than just completing code directly on the W3 School site, I want you to start entering code here in the Google Colab notebook. Read through the text and enter the requested code in each of the code blocks below. (Code to answer each question can be found on the W3 site, but you should enter the code in this notebook and run it so output is displayed.) Review the W3 Schools Pip tutorial at https://www.w3schools.com/python/python_pip.asp and run the cell blocks below. Are you able to see where the code in the code blocks below matches the code shown in the tutorial? Turn in your completed sheet in GitHub."
      ],
      "metadata": {
        "id": "dxx4dF-U_QcY"
      }
    },
    {
      "cell_type": "code",
      "execution_count": null,
      "metadata": {
        "id": "QMOj1u3T055s",
        "outputId": "d6b04973-44a0-4aa3-85ef-89a6b7f1989c",
        "colab": {
          "base_uri": "https://localhost:8080/"
        }
      },
      "outputs": [
        {
          "output_type": "stream",
          "name": "stdout",
          "text": [
            "pip 24.1.2 from /usr/local/lib/python3.10/dist-packages/pip (python 3.10)\n"
          ]
        }
      ],
      "source": [
        "# This shows you what version of Pip is installed.\n",
        "\n",
        "!pip --version"
      ]
    },
    {
      "cell_type": "code",
      "source": [
        "# This installs the package \"camelcase\".\n",
        "\n",
        "!pip install camelcase"
      ],
      "metadata": {
        "id": "DCB2rDim-sTF"
      },
      "execution_count": null,
      "outputs": []
    },
    {
      "cell_type": "code",
      "source": [
        "# This uses code from the camelcase package.\n",
        "\n",
        "import camelcase\n",
        "\n",
        "c = camelcase.CamelCase()\n",
        "\n",
        "txt = \"hello world\"\n",
        "\n",
        "print(c.hump(txt))"
      ],
      "metadata": {
        "id": "BRubQ7TH-yiY",
        "outputId": "37c3ac17-063f-4ba7-e394-3d7cdf43d5b6",
        "colab": {
          "base_uri": "https://localhost:8080/",
          "height": 384
        }
      },
      "execution_count": null,
      "outputs": [
        {
          "output_type": "error",
          "ename": "ModuleNotFoundError",
          "evalue": "No module named 'camelcase'",
          "traceback": [
            "\u001b[0;31m---------------------------------------------------------------------------\u001b[0m",
            "\u001b[0;31mModuleNotFoundError\u001b[0m                       Traceback (most recent call last)",
            "\u001b[0;32m<ipython-input-2-c87c0fb6179e>\u001b[0m in \u001b[0;36m<cell line: 3>\u001b[0;34m()\u001b[0m\n\u001b[1;32m      1\u001b[0m \u001b[0;31m# This uses code from the camelcase package.\u001b[0m\u001b[0;34m\u001b[0m\u001b[0;34m\u001b[0m\u001b[0m\n\u001b[1;32m      2\u001b[0m \u001b[0;34m\u001b[0m\u001b[0m\n\u001b[0;32m----> 3\u001b[0;31m \u001b[0;32mimport\u001b[0m \u001b[0mcamelcase\u001b[0m\u001b[0;34m\u001b[0m\u001b[0;34m\u001b[0m\u001b[0m\n\u001b[0m\u001b[1;32m      4\u001b[0m \u001b[0;34m\u001b[0m\u001b[0m\n\u001b[1;32m      5\u001b[0m \u001b[0mc\u001b[0m \u001b[0;34m=\u001b[0m \u001b[0mcamelcase\u001b[0m\u001b[0;34m.\u001b[0m\u001b[0mCamelCase\u001b[0m\u001b[0;34m(\u001b[0m\u001b[0;34m)\u001b[0m\u001b[0;34m\u001b[0m\u001b[0;34m\u001b[0m\u001b[0m\n",
            "\u001b[0;31mModuleNotFoundError\u001b[0m: No module named 'camelcase'",
            "",
            "\u001b[0;31m---------------------------------------------------------------------------\u001b[0;32m\nNOTE: If your import is failing due to a missing package, you can\nmanually install dependencies using either !pip or !apt.\n\nTo view examples of installing some common dependencies, click the\n\"Open Examples\" button below.\n\u001b[0;31m---------------------------------------------------------------------------\u001b[0m\n"
          ],
          "errorDetails": {
            "actions": [
              {
                "action": "open_url",
                "actionText": "Open Examples",
                "url": "/notebooks/snippets/importing_libraries.ipynb"
              }
            ]
          }
        }
      ]
    },
    {
      "cell_type": "code",
      "source": [
        "# This allows you to see what packages are currently installed.\n",
        "\n",
        "!pip list"
      ],
      "metadata": {
        "id": "juGMZcmg-9V-"
      },
      "execution_count": null,
      "outputs": []
    }
  ]
}